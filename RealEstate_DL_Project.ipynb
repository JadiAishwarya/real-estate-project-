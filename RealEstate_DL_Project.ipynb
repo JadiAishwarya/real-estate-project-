{
 "cells": [
  {
   "cell_type": "code",
   "execution_count": null,
   "id": "81b13800",
   "metadata": {},
   "outputs": [],
   "source": [
    "# Install required libraries\n",
    "!pip install numpy pandas matplotlib seaborn scikit-learn keras tensorflow opencv-python PuLP\n"
   ]
  },
  {
   "cell_type": "code",
   "execution_count": null,
   "id": "7dd956bc",
   "metadata": {},
   "outputs": [],
   "source": [
    "import numpy as np\n",
    "import pandas as pd\n",
    "import matplotlib.pyplot as plt\n",
    "import seaborn as sns\n",
    "import cv2\n",
    "import os\n",
    "from sklearn.preprocessing import MinMaxScaler\n",
    "from sklearn.metrics import mean_squared_error\n",
    "from keras.models import Sequential\n",
    "from keras.layers import LSTM, Dense\n"
   ]
  },
  {
   "cell_type": "code",
   "execution_count": null,
   "id": "0fec22e4",
   "metadata": {},
   "outputs": [],
   "source": [
    "# Generate synthetic retail price data\n",
    "dates = pd.date_range(start=\"2015-01-01\", periods=100, freq=\"M\")\n",
    "prices = np.random.normal(loc=500000, scale=50000, size=100)\n",
    "df = pd.DataFrame({'date': dates, 'price': prices})\n",
    "df.set_index('date', inplace=True)\n",
    "\n",
    "# Normalize prices\n",
    "scaler = MinMaxScaler()\n",
    "df['scaled_price'] = scaler.fit_transform(df[['price']])\n",
    "\n",
    "# Create LSTM sequences\n",
    "def create_sequences(data, seq_len=12):\n",
    "    X, y = [], []\n",
    "    for i in range(len(data) - seq_len):\n",
    "        X.append(data[i:i+seq_len])\n",
    "        y.append(data[i+seq_len])\n",
    "    return np.array(X), np.array(y)\n",
    "\n",
    "X, y = create_sequences(df['scaled_price'].values, 12)\n",
    "X = X.reshape((X.shape[0], X.shape[1], 1))\n"
   ]
  },
  {
   "cell_type": "code",
   "execution_count": null,
   "id": "5500fe9a",
   "metadata": {},
   "outputs": [],
   "source": [
    "model = Sequential([\n",
    "    LSTM(64, input_shape=(X.shape[1], X.shape[2]), return_sequences=False),\n",
    "    Dense(1)\n",
    "])\n",
    "model.compile(optimizer='adam', loss='mse')\n",
    "model.fit(X, y, epochs=20, batch_size=8, verbose=1)\n",
    "\n",
    "preds = model.predict(X)\n",
    "preds_rescaled = scaler.inverse_transform(preds)\n",
    "\n",
    "plt.figure(figsize=(10,5))\n",
    "plt.plot(df.index[12:], scaler.inverse_transform(y.reshape(-1, 1)), label='Actual')\n",
    "plt.plot(df.index[12:], preds_rescaled, label='Predicted')\n",
    "plt.legend()\n",
    "plt.title(\"LSTM Retail Price Forecast\")\n",
    "plt.show()\n"
   ]
  },
  {
   "cell_type": "code",
   "execution_count": null,
   "id": "5e95a653",
   "metadata": {},
   "outputs": [],
   "source": [
    "from google.colab import files\n",
    "uploaded = files.upload()\n"
   ]
  },
  {
   "cell_type": "code",
   "execution_count": null,
   "id": "468cdc40",
   "metadata": {},
   "outputs": [],
   "source": [
    "import zipfile\n",
    "with zipfile.ZipFile(\"real_estate_sample.zip\", 'r') as zip_ref:\n",
    "    zip_ref.extractall(\"/content/images\")\n"
   ]
  },
  {
   "cell_type": "code",
   "execution_count": null,
   "id": "e38744b3",
   "metadata": {},
   "outputs": [],
   "source": [
    "from tensorflow.keras.preprocessing.image import ImageDataGenerator\n",
    "from tensorflow.keras.models import Sequential\n",
    "from tensorflow.keras.layers import Conv2D, MaxPooling2D, Flatten, Dense\n",
    "\n",
    "datagen = ImageDataGenerator(rescale=1./255, validation_split=0.2)\n",
    "\n",
    "train_gen = datagen.flow_from_directory(\n",
    "    '/content/images',\n",
    "    target_size=(64, 64),\n",
    "    batch_size=16,\n",
    "    class_mode='binary',\n",
    "    subset='training'\n",
    ")\n",
    "\n",
    "val_gen = datagen.flow_from_directory(\n",
    "    '/content/images',\n",
    "    target_size=(64, 64),\n",
    "    batch_size=16,\n",
    "    class_mode='binary',\n",
    "    subset='validation'\n",
    ")\n",
    "\n",
    "cnn = Sequential([\n",
    "    Conv2D(32, (3,3), activation='relu', input_shape=(64, 64, 3)),\n",
    "    MaxPooling2D(2,2),\n",
    "    Flatten(),\n",
    "    Dense(64, activation='relu'),\n",
    "    Dense(1, activation='sigmoid')\n",
    "])\n",
    "\n",
    "cnn.compile(optimizer='adam', loss='binary_crossentropy', metrics=['accuracy'])\n",
    "cnn.fit(train_gen, validation_data=val_gen, epochs=5)\n"
   ]
  },
  {
   "cell_type": "code",
   "execution_count": null,
   "id": "8a8d2365",
   "metadata": {},
   "outputs": [],
   "source": [
    "from pulp import LpMaximize, LpProblem, LpVariable, lpSum\n",
    "\n",
    "properties = ['A', 'B', 'C']\n",
    "returns = [0.12, 0.18, 0.10]\n",
    "costs = [100000, 150000, 120000]\n",
    "budget = 250000\n",
    "\n",
    "model = LpProblem(\"Portfolio Optimization\", LpMaximize)\n",
    "x = LpVariable.dicts(\"Invest\", properties, cat='Binary')\n",
    "\n",
    "model += lpSum([returns[i] * x[properties[i]] for i in range(len(properties))])\n",
    "model += lpSum([costs[i] * x[properties[i]] for i in range(len(properties))]) <= budget\n",
    "\n",
    "model.solve()\n",
    "\n",
    "for p in properties:\n",
    "    print(f\"Invest in {p}: {x[p].varValue}\")\n"
   ]
  }
 ],
 "metadata": {},
 "nbformat": 4,
 "nbformat_minor": 5
}
